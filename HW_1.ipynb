{
  "nbformat": 4,
  "nbformat_minor": 0,
  "metadata": {
    "colab": {
      "provenance": [],
      "authorship_tag": "ABX9TyN36qfjGIqcv6qkLMdxhYgt",
      "include_colab_link": true
    },
    "kernelspec": {
      "name": "python3",
      "display_name": "Python 3"
    },
    "language_info": {
      "name": "python"
    }
  },
  "cells": [
    {
      "cell_type": "markdown",
      "metadata": {
        "id": "view-in-github",
        "colab_type": "text"
      },
      "source": [
        "<a href=\"https://colab.research.google.com/github/Thanidtha-saengsee/HW1/blob/main/HW_1.ipynb\" target=\"_parent\"><img src=\"https://colab.research.google.com/assets/colab-badge.svg\" alt=\"Open In Colab\"/></a>"
      ]
    },
    {
      "cell_type": "code",
      "source": [
        "#1\n",
        "from collections import Counter\n",
        "import numpy as np\n",
        "\n",
        "def count_runs(sequence):\n",
        "    run_length = 0\n",
        "    run_counts = Counter()\n",
        "\n",
        "    for value in sequence:\n",
        "        if value == 1:\n",
        "            run_length += 1\n",
        "        else:\n",
        "            if run_length > 0:\n",
        "                run_counts[run_length] += 1\n",
        "            run_length = 0\n",
        "\n",
        "    if run_length > 0:\n",
        "        run_counts[run_length] += 1\n",
        "\n",
        "    return run_counts\n",
        "\n",
        "sequence = [0, 1, 0, 1, 1, 0, 0, 0, 0, 1]\n",
        "result = count_runs(sequence)\n",
        "print(\"Example Result:\", result)\n",
        "random_sequence = np.random.randint(0, 2, 1000000)\n",
        "result_large = count_runs(random_sequence)\n",
        "\n",
        "for run_length in sorted(result_large.keys()):\n",
        "    print(f\"{run_length}: {result_large[run_length]}\")\n"
      ],
      "metadata": {
        "colab": {
          "base_uri": "https://localhost:8080/"
        },
        "id": "aW92kBfJpN0o",
        "outputId": "7dcf7ad0-2414-4b01-f8af-5f6f997ea6fb"
      },
      "execution_count": 1,
      "outputs": [
        {
          "output_type": "stream",
          "name": "stdout",
          "text": [
            "Example Result: Counter({1: 2, 2: 1})\n",
            "1: 124493\n",
            "2: 62541\n",
            "3: 31217\n",
            "4: 15612\n",
            "5: 7891\n",
            "6: 3919\n",
            "7: 1958\n",
            "8: 984\n",
            "9: 500\n",
            "10: 257\n",
            "11: 128\n",
            "12: 70\n",
            "13: 33\n",
            "14: 17\n",
            "15: 6\n",
            "16: 7\n",
            "17: 1\n",
            "18: 1\n"
          ]
        }
      ]
    },
    {
      "cell_type": "code",
      "source": [
        "#2\n",
        "import numpy as np\n",
        "def count_runs(sequence, k):\n",
        "    run_length = 0\n",
        "    for value in sequence:\n",
        "        if value == 1:\n",
        "            run_length += 1\n",
        "        else:\n",
        "            if run_length >= k:\n",
        "                return True\n",
        "            run_length = 0\n",
        "    if run_length >= k:\n",
        "        return True\n",
        "    return False\n",
        "\n",
        "def run_prob(expts, n, k, p):\n",
        "    success_count = 0\n",
        "    for _ in range(expts):\n",
        "        sequence = np.random.binomial(1, p, n)\n",
        "        if count_runs(sequence, k):\n",
        "            success_count += 1\n",
        "    return success_count / expts\n",
        "\n",
        "prob_k5_p05 = run_prob(expts=100000, n=100, k=5, p=0.5)\n",
        "prob_k7_p07 = run_prob(expts=100000, n=100, k=7, p=0.7)\n",
        "\n",
        "print(f\"Probability of at least one run of length 5 or more (p=0.5): {prob_k5_p05:.5f}\")\n",
        "print(f\"Probability of at least one run of length 7 or more (p=0.7): {prob_k7_p07:.5f}\")\n"
      ],
      "metadata": {
        "colab": {
          "base_uri": "https://localhost:8080/"
        },
        "id": "G0ePt1NLpOdp",
        "outputId": "3ced313d-bc2b-40be-d7d8-5d817488a8bf"
      },
      "execution_count": 2,
      "outputs": [
        {
          "output_type": "stream",
          "name": "stdout",
          "text": [
            "Probability of at least one run of length 5 or more (p=0.5): 0.81137\n",
            "Probability of at least one run of length 7 or more (p=0.7): 0.94911\n"
          ]
        }
      ]
    }
  ]
}